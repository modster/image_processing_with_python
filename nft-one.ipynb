{
 "cells": [
  {
   "cell_type": "code",
   "execution_count": 51,
   "metadata": {},
   "outputs": [],
   "source": [
    "from PIL import Image\n",
    "import glob\n",
    "\n",
    "output_image = \"output/output.jpg\"\n",
    "rotated_image = \"./rotated.jpg\"\n",
    "original_image = \"./src/flowers.jpg\"\n"
   ]
  },
  {
   "cell_type": "code",
   "execution_count": 52,
   "metadata": {},
   "outputs": [],
   "source": [
    "def rotate(image_path, degrees_to_rotate, output_image_path):\n",
    "    image_obj = Image.open(image_path)\n",
    "    rotated = image_obj.rotate(degrees_to_rotate)\n",
    "    rotated.save(output_image_path)\n",
    "    image_obj.close()\n",
    "\n",
    "\n",
    "\n",
    "if __name__ == \"__main__\":\n",
    "    rotate(original_image, 36, rotated_image)\n"
   ]
  },
  {
   "cell_type": "code",
   "execution_count": 54,
   "metadata": {},
   "outputs": [],
   "source": [
    "def blend(input_image_path, input_image_path_2, output_path, alpha):\n",
    "    image1 = Image.open(input_image_path).convert(\"RGBA\")\n",
    "    image2 = Image.open(input_image_path_2).convert(\"RGBA\")\n",
    "    if image1.size != image2.size:\n",
    "        print(\"ERROR: Images are not the same size!\")\n",
    "        return\n",
    "    blended_image = Image.blend(image1, image2, alpha)\n",
    "    blended_image.save(output_path)\n",
    "\n",
    "if __name__ == \"__main__\":\n",
    "    blend(\"./rotated.jpg\", original_image, \"./blended.png\", alpha=0.4)"
   ]
  },
  {
   "cell_type": "code",
   "execution_count": 56,
   "metadata": {},
   "outputs": [
    {
     "name": "stdout",
     "output_type": "stream",
     "text": [
      "['./src\\\\ducklings.jpg', './src\\\\flowers.jpg', './src\\\\flower_border.jpg', './src\\\\grasshopper.jpg', './src\\\\gray_caterpillar.jpg', './src\\\\hummingbird.jpg', './src\\\\pilot_knob copy.jpg', './src\\\\pilot_knob.jpg', './src\\\\silver_falls copy.jpg', './src\\\\silver_falls.jpg', './src\\\\silver_falls2 copy.jpg', './src\\\\silver_falls2.jpg', './src\\\\silver_h_combined copy.jpg', './src\\\\silver_h_combined.jpg', './src\\\\silver_v_combined copy.jpg', './src\\\\silver_v_combined.jpg', './src\\\\logo copy.png', './src\\\\logo.png', './src\\\\shell copy.png', './src\\\\shell.png', './src\\\\skyline copy.png', './src\\\\skyline.png']\n"
     ]
    }
   ],
   "source": [
    "source_images_path = \"./src\"\n",
    "\n",
    "def parse_folder(path):\n",
    "    images = glob.glob(f'{path}/*.jpg') + glob.glob(f'{path}/*.png')\n",
    "    return images\n",
    "\n",
    "print(parse_folder(source_images_path))"
   ]
  },
  {
   "cell_type": "code",
   "execution_count": null,
   "metadata": {},
   "outputs": [],
   "source": []
  },
  {
   "cell_type": "code",
   "execution_count": null,
   "metadata": {},
   "outputs": [],
   "source": []
  }
 ],
 "metadata": {
  "interpreter": {
   "hash": "d0d3eff3ef10e98f399b3d03d68751d7c6101fe544bccbb6c3cf859e59a0b74b"
  },
  "kernelspec": {
   "display_name": "Python 3.9.12 ('art')",
   "language": "python",
   "name": "python3"
  },
  "language_info": {
   "codemirror_mode": {
    "name": "ipython",
    "version": 3
   },
   "file_extension": ".py",
   "mimetype": "text/x-python",
   "name": "python",
   "nbconvert_exporter": "python",
   "pygments_lexer": "ipython3",
   "version": "3.9.12"
  },
  "orig_nbformat": 4
 },
 "nbformat": 4,
 "nbformat_minor": 2
}
